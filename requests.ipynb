{
  "nbformat": 4,
  "nbformat_minor": 0,
  "metadata": {
    "colab": {
      "provenance": [],
      "collapsed_sections": []
    },
    "kernelspec": {
      "name": "python3",
      "display_name": "Python 3"
    },
    "language_info": {
      "name": "python"
    }
  },
  "cells": [
    {
      "cell_type": "code",
      "execution_count": 1,
      "metadata": {
        "id": "ZpRGgeQ18QPF"
      },
      "outputs": [],
      "source": [
        "import requests\n",
        "import numpy as np\n",
        "import matplotlib.pyplot as plt"
      ]
    },
    {
      "cell_type": "code",
      "source": [
        "msk_salary=[]\n",
        "msk_name=[]\n",
        "for i in range(100):\n",
        "  url=\"https://api.hh.ru/vacancies?text=Аналитик&area=1&search_field=name&per_page=1&page={}\".format(str(i))\n",
        "  items=requests.get(url).json()['items']\n",
        "  for item in items:\n",
        "    msk_salary+=[item['salary']]\n",
        "    msk_name+=[item['name']]"
      ],
      "metadata": {
        "id": "lC92sJVHGY_6"
      },
      "execution_count": 2,
      "outputs": []
    },
    {
      "cell_type": "code",
      "source": [
        "spb_salary=[]\n",
        "spb_name=[]\n",
        "i=100\n",
        "while i:\n",
        "  url=\"https://api.hh.ru/vacancies?text=Аналитик&area=2&search_field=name&per_page=1&page={}\".format(str(i))\n",
        "  items=requests.get(url).json()['items']\n",
        "  for item in items:\n",
        "    spb_salary+=[item['salary']]\n",
        "    spb_name+=[item['name']]\n",
        "  i=i-1"
      ],
      "metadata": {
        "id": "ZtcifCTqeGmf"
      },
      "execution_count": 3,
      "outputs": []
    },
    {
      "cell_type": "code",
      "source": [
        "msk=[]\n",
        "for i in range (100):\n",
        "  msk+=[[msk_name[i], msk_salary[i]]]"
      ],
      "metadata": {
        "id": "1-hSJeSMd2FN"
      },
      "execution_count": 4,
      "outputs": []
    },
    {
      "cell_type": "code",
      "source": [
        "spb=[]\n",
        "for i in range (100):\n",
        "  spb+=[[spb_name[i], spb_salary[i]]]"
      ],
      "metadata": {
        "id": "6abpboJ7d5R5"
      },
      "execution_count": 5,
      "outputs": []
    },
    {
      "cell_type": "code",
      "source": [
        "spb_clean=[]\n",
        "for sal in spb:\n",
        "  if sal[1] is not None:\n",
        "    if sal[1]['currency']=='RUR':\n",
        "      coef=1\n",
        "    else:\n",
        "      coef=60 \n",
        "    if sal[1]['gross']==True:\n",
        "      gross=1\n",
        "    else:\n",
        "      gross=0.87\n",
        "    if (sal[1]['from'] is not None):\n",
        "      spb_clean+=[[sal[0], sal[1]['from']*coef*gross]]"
      ],
      "metadata": {
        "id": "7KtyIPvtaKX_"
      },
      "execution_count": 6,
      "outputs": []
    },
    {
      "cell_type": "code",
      "source": [
        "msk_clean=[]\n",
        "for sal in msk:\n",
        "  if sal[1] is not None:\n",
        "    if sal[1]['currency']=='RUR':\n",
        "      coef=1\n",
        "    else:\n",
        "      coef=60 \n",
        "    if sal[1]['gross']==True:\n",
        "      gross=1\n",
        "    else:\n",
        "      gross=0.87\n",
        "    if (sal[1]['from'] is not None):\n",
        "      msk_clean+=[[sal[0], sal[1]['from']*coef*gross]]"
      ],
      "metadata": {
        "id": "X0KtbHC8ajbN"
      },
      "execution_count": 7,
      "outputs": []
    },
    {
      "cell_type": "code",
      "source": [
        "sal_array=[]\n",
        "max_sal=0\n",
        "for sal1 in spb_clean:\n",
        "  for sal2 in msk_clean:\n",
        "    if (sal1[1]>sal2[1] and sal1[0]==sal2[0]):\n",
        "      sal_array+=[sal1[0], sal1[1]]\n",
        "      if (sal1[1]>max_sal):\n",
        "        max_job=sal1[0]\n",
        "        max_sal=sal1[1]\n",
        "print(len(sal_array))\n",
        "print(max_job, max_sal)"
      ],
      "metadata": {
        "colab": {
          "base_uri": "https://localhost:8080/"
        },
        "id": "mvkVJ6w6hxG8",
        "outputId": "41dad63b-58fc-4381-9bb3-fdb7633b8ab7"
      },
      "execution_count": 8,
      "outputs": [
        {
          "output_type": "stream",
          "name": "stdout",
          "text": [
            "18\n",
            "Бизнес-аналитик 150000\n"
          ]
        }
      ]
    }
  ]
}